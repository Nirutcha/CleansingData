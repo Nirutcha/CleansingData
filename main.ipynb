{
 "cells": [
  {
   "cell_type": "markdown",
   "metadata": {},
   "source": [
    "## Get file"
   ]
  },
  {
   "cell_type": "code",
   "execution_count": 100,
   "metadata": {},
   "outputs": [],
   "source": [
    "file_path = \"C:/Users/nirutcha/Documents/GitHub/CleansingData/Data/20240829CAR_MODEL_LIST.xlsx\""
   ]
  },
  {
   "cell_type": "markdown",
   "metadata": {},
   "source": [
    "## Craete SparkSession"
   ]
  },
  {
   "cell_type": "code",
   "execution_count": 101,
   "metadata": {},
   "outputs": [],
   "source": [
    "import pandas as pd\n",
    "from pyspark.sql import SparkSession\n",
    "\n",
    "# Initialize Spark session\n",
    "spark = SparkSession.builder.appName(\"Excel to Spark\").getOrCreate()"
   ]
  },
  {
   "cell_type": "code",
   "execution_count": 102,
   "metadata": {},
   "outputs": [],
   "source": [
    "pdf = pd.read_excel(file_path, sheet_name='Sheet1')"
   ]
  },
  {
   "cell_type": "code",
   "execution_count": 103,
   "metadata": {},
   "outputs": [],
   "source": [
    "df = spark.createDataFrame(pdf)"
   ]
  },
  {
   "cell_type": "code",
   "execution_count": 104,
   "metadata": {},
   "outputs": [
    {
     "name": "stdout",
     "output_type": "stream",
     "text": [
      "+----------+-----------------------+----------------------+----------------------+\n",
      "|Unnamed: 0|CAR_BRAND_CAR_MODEL_CAR|CAR_BRAND_CAR_MODEL_SG|CAR_BRAND_CAR_MODEL_MD|\n",
      "+----------+-----------------------+----------------------+----------------------+\n",
      "|0         |MG_MG 3                |ISUZU_D-MAX           |VOLVO_144             |\n",
      "|1         |TOYOTA_INOVA           |TOYOTA_VIGO           |VOLVO_164             |\n",
      "|2         |MAZDA_3                |TOYOTA_VIOS           |VOLVO_240             |\n",
      "|3         |AUDI_TT                |HONDA_CITY            |VOLVO_244             |\n",
      "|4         |TOYOTA_MIGHTY-X        |HONDA_CIVIC           |VOLVO_260             |\n",
      "|5         |ISUZU_DMAX             |TOYOTA_ALTIS          |VOLVO_264             |\n",
      "|6         |HONDA_CR-V             |TOYOTA_REVO           |VOLVO_340             |\n",
      "|7         |NISSAN_ ELGRAND        |TOYOTA_YARIS          |VOLVO_446             |\n",
      "|8         |MAZDA_MAZDA2           |HONDA_JAZZ            |VOLVO_460             |\n",
      "|9         |ZZ_????????            |TOYOTA_FORTUNER       |VOLVO_740             |\n",
      "|10        |MAZDA_BT50             |MAZDA_MAZDA 2         |VOLVO_740             |\n",
      "|11        |TOYOTA_HIACE           |TOYOTA_CAMRY          |VOLVO_850             |\n",
      "|12        |DFSK_MINITRUCK         |MITSUBISHI_TRITON     |VOLVO_940             |\n",
      "|13        |ISUZU_ISUZU TFR        |FORD_RANGER           |VOLVO_960             |\n",
      "|14        |HONDA_HR-V             |HONDA_CRV             |VOLVO_C70             |\n",
      "|15        |NISSAN_SUNNY NEO       |NISSAN_ALMERA         |VOLVO_Cross Country   |\n",
      "|16        |NISSAN_TIDA            |HONDA_ACCORD          |VOLVO_S60             |\n",
      "|17        |MAZDA_MAZDA 3          |NISSAN_NAVARA         |VOLVO_S70             |\n",
      "|18        |TOYOTA_COROLA          |TOYOTA_COMMUTER       |VOLVO_S80             |\n",
      "|19        |MERCHEDES BENZ_230E    |SUZUKI_SWIFT          |VOLVO_S90             |\n",
      "+----------+-----------------------+----------------------+----------------------+\n",
      "only showing top 20 rows\n",
      "\n"
     ]
    }
   ],
   "source": [
    "df.show(truncate=False)"
   ]
  },
  {
   "cell_type": "code",
   "execution_count": 105,
   "metadata": {},
   "outputs": [
    {
     "name": "stdout",
     "output_type": "stream",
     "text": [
      "root\n",
      " |-- Unnamed: 0: long (nullable = true)\n",
      " |-- CAR_BRAND_CAR_MODEL_CAR: string (nullable = true)\n",
      " |-- CAR_BRAND_CAR_MODEL_SG: string (nullable = true)\n",
      " |-- CAR_BRAND_CAR_MODEL_MD: string (nullable = true)\n",
      "\n"
     ]
    }
   ],
   "source": [
    "df.printSchema()"
   ]
  },
  {
   "cell_type": "code",
   "execution_count": 106,
   "metadata": {},
   "outputs": [
    {
     "name": "stdout",
     "output_type": "stream",
     "text": [
      "3067 4\n"
     ]
    }
   ],
   "source": [
    "print(df.count(),len(df.columns))"
   ]
  },
  {
   "cell_type": "code",
   "execution_count": 107,
   "metadata": {},
   "outputs": [
    {
     "name": "stdout",
     "output_type": "stream",
     "text": [
      "+-------+----------+-----------------------+----------------------+----------------------+\n",
      "|summary|Unnamed: 0|CAR_BRAND_CAR_MODEL_CAR|CAR_BRAND_CAR_MODEL_SG|CAR_BRAND_CAR_MODEL_MD|\n",
      "+-------+----------+-----------------------+----------------------+----------------------+\n",
      "|  count|      3067|                   3067|                  3067|                  3067|\n",
      "+-------+----------+-----------------------+----------------------+----------------------+\n",
      "\n"
     ]
    }
   ],
   "source": [
    "df.summary('count').show()"
   ]
  },
  {
   "cell_type": "code",
   "execution_count": 108,
   "metadata": {},
   "outputs": [
    {
     "data": {
      "text/plain": [
       "1055"
      ]
     },
     "execution_count": 108,
     "metadata": {},
     "output_type": "execute_result"
    }
   ],
   "source": [
    "df.select('CAR_BRAND_CAR_MODEL_MD').distinct().count()"
   ]
  },
  {
   "cell_type": "markdown",
   "metadata": {},
   "source": [
    "## Cleansing"
   ]
  },
  {
   "cell_type": "markdown",
   "metadata": {},
   "source": [
    "#### Craete new column under condition replace as MD if fuzz.ration >= 90"
   ]
  },
  {
   "cell_type": "code",
   "execution_count": 167,
   "metadata": {},
   "outputs": [],
   "source": [
    "from pyspark.sql.functions import udf, col, lit\n",
    "from pyspark.sql.types import StringType\n",
    "from fuzzywuzzy import fuzz"
   ]
  },
  {
   "cell_type": "code",
   "execution_count": 222,
   "metadata": {},
   "outputs": [],
   "source": [
    "def get_best_match(sg_value, md_list):\n",
    "    if sg_value is None:\n",
    "        return None\n",
    "    \n",
    "    best_match = None\n",
    "    highest_ratio = 0\n",
    "    \n",
    "    for md_value in md_list:\n",
    "        ratio = fuzz.ratio(sg_value, md_value)\n",
    "        if ratio >= 90 and ratio > highest_ratio:\n",
    "            highest_ratio = ratio\n",
    "            best_match = md_value\n",
    "    \n",
    "    if best_match is not None:\n",
    "        return best_match\n",
    "    else:\n",
    "        return sg_value\n",
    "\n",
    "@udf(StringType())\n",
    "def fuzzy_match_udf(sg_value, md_list):\n",
    "    return get_best_match(sg_value, md_list)"
   ]
  },
  {
   "cell_type": "code",
   "execution_count": 223,
   "metadata": {},
   "outputs": [],
   "source": [
    "md_list = df.select('CAR_BRAND_CAR_MODEL_MD').rdd.flatMap(lambda x: x).collect()"
   ]
  },
  {
   "cell_type": "code",
   "execution_count": 224,
   "metadata": {},
   "outputs": [],
   "source": [
    "result_df = df.withColumn('new_col', fuzzy_match_udf(col('CAR_BRAND_CAR_MODEL_SG'), lit(md_list)))\n"
   ]
  },
  {
   "cell_type": "code",
   "execution_count": 225,
   "metadata": {},
   "outputs": [
    {
     "name": "stdout",
     "output_type": "stream",
     "text": [
      "+----------+-----------------------+----------------------+----------------------+-----------------+\n",
      "|Unnamed: 0|CAR_BRAND_CAR_MODEL_CAR|CAR_BRAND_CAR_MODEL_SG|CAR_BRAND_CAR_MODEL_MD|          new_col|\n",
      "+----------+-----------------------+----------------------+----------------------+-----------------+\n",
      "|         0|                MG_MG 3|           ISUZU_D-MAX|             VOLVO_144|      ISUZU_D-MAX|\n",
      "|         1|           TOYOTA_INOVA|           TOYOTA_VIGO|             VOLVO_164|      TOYOTA_VIGO|\n",
      "|         2|                MAZDA_3|           TOYOTA_VIOS|             VOLVO_240|      TOYOTA_VIOS|\n",
      "|         3|                AUDI_TT|            HONDA_CITY|             VOLVO_244|       HONDA_CITY|\n",
      "|         4|        TOYOTA_MIGHTY-X|           HONDA_CIVIC|             VOLVO_260|      HONDA_CIVIC|\n",
      "|         5|             ISUZU_DMAX|          TOYOTA_ALTIS|             VOLVO_264|     TOYOTA_ALTIS|\n",
      "|         6|             HONDA_CR-V|           TOYOTA_REVO|             VOLVO_340|      TOYOTA_REVO|\n",
      "|         7|        NISSAN_ ELGRAND|          TOYOTA_YARIS|             VOLVO_446|     TOYOTA_YARIS|\n",
      "|         8|           MAZDA_MAZDA2|            HONDA_JAZZ|             VOLVO_460|       HONDA_JAZZ|\n",
      "|         9|            ZZ_????????|       TOYOTA_FORTUNER|             VOLVO_740|  TOYOTA_FORTUNER|\n",
      "|        10|             MAZDA_BT50|         MAZDA_MAZDA 2|            VOLVO_740 |    MAZDA_MAZDA 2|\n",
      "|        11|           TOYOTA_HIACE|          TOYOTA_CAMRY|             VOLVO_850|     TOYOTA_CAMRY|\n",
      "|        12|         DFSK_MINITRUCK|     MITSUBISHI_TRITON|            VOLVO_940 |MITSUBISHI_TRITON|\n",
      "|        13|        ISUZU_ISUZU TFR|           FORD_RANGER|            VOLVO_960 |      FORD_RANGER|\n",
      "|        14|             HONDA_HR-V|             HONDA_CRV|             VOLVO_C70|        HONDA_CRV|\n",
      "|        15|       NISSAN_SUNNY NEO|         NISSAN_ALMERA|   VOLVO_Cross Country|    NISSAN_ALMERA|\n",
      "|        16|            NISSAN_TIDA|          HONDA_ACCORD|             VOLVO_S60|     HONDA_ACCORD|\n",
      "|        17|          MAZDA_MAZDA 3|         NISSAN_NAVARA|             VOLVO_S70|    NISSAN_NAVARA|\n",
      "|        18|          TOYOTA_COROLA|       TOYOTA_COMMUTER|             VOLVO_S80|  TOYOTA_COMMUTER|\n",
      "|        19|    MERCHEDES BENZ_230E|          SUZUKI_SWIFT|             VOLVO_S90|     SUZUKI_SWIFT|\n",
      "+----------+-----------------------+----------------------+----------------------+-----------------+\n",
      "only showing top 20 rows\n",
      "\n"
     ]
    }
   ],
   "source": [
    "result_df.show()"
   ]
  },
  {
   "cell_type": "code",
   "execution_count": 226,
   "metadata": {},
   "outputs": [
    {
     "data": {
      "text/plain": [
       "2471"
      ]
     },
     "execution_count": 226,
     "metadata": {},
     "output_type": "execute_result"
    }
   ],
   "source": [
    "result_df.select('new_col').distinct().count()"
   ]
  },
  {
   "cell_type": "code",
   "execution_count": 227,
   "metadata": {},
   "outputs": [
    {
     "name": "stdout",
     "output_type": "stream",
     "text": [
      "+----------+-----------------------+----------------------+----------------------+-----------+\n",
      "|Unnamed: 0|CAR_BRAND_CAR_MODEL_CAR|CAR_BRAND_CAR_MODEL_SG|CAR_BRAND_CAR_MODEL_MD|    new_col|\n",
      "+----------+-----------------------+----------------------+----------------------+-----------+\n",
      "|      1219|        TOYOTA_COROLLLA|          ISUZU_-D-MAX|                   NaN|ISUZU_D-MAX|\n",
      "|      2026|                    NaN|           ISUZU_D-MAM|                   NaN|ISUZU_D-MAX|\n",
      "+----------+-----------------------+----------------------+----------------------+-----------+\n",
      "\n"
     ]
    }
   ],
   "source": [
    "result_df.filter(\n",
    "    (col('CAR_BRAND_CAR_MODEL_SG') == 'SUZU_D-MAX 2.5') |\n",
    "    (col('CAR_BRAND_CAR_MODEL_SG') == 'ISUZU_D-MAM') |\n",
    "    (col('CAR_BRAND_CAR_MODEL_SG') == 'ISUZU_-D-MAX')\n",
    ").show()"
   ]
  },
  {
   "cell_type": "code",
   "execution_count": 228,
   "metadata": {},
   "outputs": [],
   "source": [
    "car_list = df.select('CAR_BRAND_CAR_MODEL_CAR').rdd.flatMap(lambda x: x).collect()"
   ]
  },
  {
   "cell_type": "code",
   "execution_count": 229,
   "metadata": {},
   "outputs": [],
   "source": [
    "result_df_2 = result_df.withColumn('new_col2', fuzzy_match_udf(col('new_col'), lit(car_list)))\n"
   ]
  },
  {
   "cell_type": "code",
   "execution_count": 230,
   "metadata": {},
   "outputs": [
    {
     "name": "stdout",
     "output_type": "stream",
     "text": [
      "+----------+-----------------------+----------------------+----------------------+-----------------+----------------+\n",
      "|Unnamed: 0|CAR_BRAND_CAR_MODEL_CAR|CAR_BRAND_CAR_MODEL_SG|CAR_BRAND_CAR_MODEL_MD|          new_col|        new_col2|\n",
      "+----------+-----------------------+----------------------+----------------------+-----------------+----------------+\n",
      "|         0|                MG_MG 3|           ISUZU_D-MAX|             VOLVO_144|      ISUZU_D-MAX|     ISUZU_D-MAX|\n",
      "|         1|           TOYOTA_INOVA|           TOYOTA_VIGO|             VOLVO_164|      TOYOTA_VIGO|    TOYOTA_ VIGO|\n",
      "|         2|                MAZDA_3|           TOYOTA_VIOS|             VOLVO_240|      TOYOTA_VIOS|    TOYOTA_ VIOS|\n",
      "|         3|                AUDI_TT|            HONDA_CITY|             VOLVO_244|       HONDA_CITY|     HONDA้_CITY|\n",
      "|         4|        TOYOTA_MIGHTY-X|           HONDA_CIVIC|             VOLVO_260|      HONDA_CIVIC|    HONDA้_CIVIC|\n",
      "|         5|             ISUZU_DMAX|          TOYOTA_ALTIS|             VOLVO_264|     TOYOTA_ALTIS|     TOYOTA_ATIS|\n",
      "|         6|             HONDA_CR-V|           TOYOTA_REVO|             VOLVO_340|      TOYOTA_REVO|    TOTYOTA_REVO|\n",
      "|         7|        NISSAN_ ELGRAND|          TOYOTA_YARIS|             VOLVO_446|     TOYOTA_YARIS|   TOYOTA_YASRIS|\n",
      "|         8|           MAZDA_MAZDA2|            HONDA_JAZZ|             VOLVO_460|       HONDA_JAZZ|     HONDA้_JAZZ|\n",
      "|         9|            ZZ_????????|       TOYOTA_FORTUNER|             VOLVO_740|  TOYOTA_FORTUNER|  TOYOTA_FOTUNER|\n",
      "|        10|             MAZDA_BT50|         MAZDA_MAZDA 2|            VOLVO_740 |    MAZDA_MAZDA 2|    MAZDA_MAZDA2|\n",
      "|        11|           TOYOTA_HIACE|          TOYOTA_CAMRY|             VOLVO_850|     TOYOTA_CAMRY|   TOYOTA_CAMMRY|\n",
      "|        12|         DFSK_MINITRUCK|     MITSUBISHI_TRITON|            VOLVO_940 |MITSUBISHI_TRITON|MISUBISHI_TRITON|\n",
      "|        13|        ISUZU_ISUZU TFR|           FORD_RANGER|            VOLVO_960 |      FORD_RANGER|    FORD_RANDGER|\n",
      "|        14|             HONDA_HR-V|             HONDA_CRV|             VOLVO_C70|        HONDA_CRV|      HONDA_CR-V|\n",
      "|        15|       NISSAN_SUNNY NEO|         NISSAN_ALMERA|   VOLVO_Cross Country|    NISSAN_ALMERA|    NISSAN_ALMER|\n",
      "|        16|            NISSAN_TIDA|          HONDA_ACCORD|             VOLVO_S60|     HONDA_ACCORD|   HONDA้_ACCORD|\n",
      "|        17|          MAZDA_MAZDA 3|         NISSAN_NAVARA|             VOLVO_S70|    NISSAN_NAVARA|    NISAN_NAVARA|\n",
      "|        18|          TOYOTA_COROLA|       TOYOTA_COMMUTER|             VOLVO_S80|  TOYOTA_COMMUTER|  TOYOA_COMMUTER|\n",
      "|        19|    MERCHEDES BENZ_230E|          SUZUKI_SWIFT|             VOLVO_S90|     SUZUKI_SWIFT|     SUZUKI_SWIF|\n",
      "+----------+-----------------------+----------------------+----------------------+-----------------+----------------+\n",
      "only showing top 20 rows\n",
      "\n"
     ]
    }
   ],
   "source": [
    "result_df_2.show()"
   ]
  },
  {
   "cell_type": "markdown",
   "metadata": {},
   "source": [
    "#### Craete new column 2 under condition replace as CAR if fuzz.ration >= 90"
   ]
  },
  {
   "cell_type": "code",
   "execution_count": 231,
   "metadata": {},
   "outputs": [
    {
     "name": "stdout",
     "output_type": "stream",
     "text": [
      "+----------+-----------------------+----------------------+----------------------+--------------------+-----------------+\n",
      "|Unnamed: 0|CAR_BRAND_CAR_MODEL_CAR|CAR_BRAND_CAR_MODEL_SG|CAR_BRAND_CAR_MODEL_MD|             new_col|         new_col2|\n",
      "+----------+-----------------------+----------------------+----------------------+--------------------+-----------------+\n",
      "|      1057|               HYUN_H-1|  TOYOTA_SOLUNA 1.5GLI|                   NaN|TOYOTA_SOLUNA 1.5GLI|TOYOTA_SOLUNA GLI|\n",
      "|      1244|           TOYOTA_FORTU|     TOYOTA_SOLUNA 1.5|                   NaN|   TOYOTA_SOLUNA 1.5|TOYOTA_SOLUNA 1.5|\n",
      "|      2753|                    NaN|    TOYOTA_SOLUNA GLI.|                   NaN|  TOYOTA_SOLUNA GLI.|TOYOTA_SOLUNA GLI|\n",
      "+----------+-----------------------+----------------------+----------------------+--------------------+-----------------+\n",
      "\n"
     ]
    }
   ],
   "source": [
    "result_df_2.filter(\n",
    "    (col('CAR_BRAND_CAR_MODEL_SG') == 'TOYOTA_SOLUNA 1.5GLI') |\n",
    "     (col('CAR_BRAND_CAR_MODEL_SG') == 'TOYOTA_SOLUNA 1.5') |\n",
    "     (col('CAR_BRAND_CAR_MODEL_SG') == 'TOYOTA_SOLUNA GLI.') \n",
    "     ).show()"
   ]
  },
  {
   "cell_type": "code",
   "execution_count": 241,
   "metadata": {},
   "outputs": [],
   "source": [
    "from pyspark.sql.functions import upper, col\n",
    "result_df_2 = result_df.withColumn('new_col2', upper(col('new_col')))"
   ]
  },
  {
   "cell_type": "code",
   "execution_count": 242,
   "metadata": {},
   "outputs": [
    {
     "name": "stdout",
     "output_type": "stream",
     "text": [
      "+----------+-----------------------+----------------------+----------------------+-----------------+-----------------+\n",
      "|Unnamed: 0|CAR_BRAND_CAR_MODEL_CAR|CAR_BRAND_CAR_MODEL_SG|CAR_BRAND_CAR_MODEL_MD|          new_col|         new_col2|\n",
      "+----------+-----------------------+----------------------+----------------------+-----------------+-----------------+\n",
      "|         0|                MG_MG 3|           ISUZU_D-MAX|             VOLVO_144|      ISUZU_D-MAX|      ISUZU_D-MAX|\n",
      "|         1|           TOYOTA_INOVA|           TOYOTA_VIGO|             VOLVO_164|      TOYOTA_VIGO|      TOYOTA_VIGO|\n",
      "|         2|                MAZDA_3|           TOYOTA_VIOS|             VOLVO_240|      TOYOTA_VIOS|      TOYOTA_VIOS|\n",
      "|         3|                AUDI_TT|            HONDA_CITY|             VOLVO_244|       HONDA_CITY|       HONDA_CITY|\n",
      "|         4|        TOYOTA_MIGHTY-X|           HONDA_CIVIC|             VOLVO_260|      HONDA_CIVIC|      HONDA_CIVIC|\n",
      "|         5|             ISUZU_DMAX|          TOYOTA_ALTIS|             VOLVO_264|     TOYOTA_ALTIS|     TOYOTA_ALTIS|\n",
      "|         6|             HONDA_CR-V|           TOYOTA_REVO|             VOLVO_340|      TOYOTA_REVO|      TOYOTA_REVO|\n",
      "|         7|        NISSAN_ ELGRAND|          TOYOTA_YARIS|             VOLVO_446|     TOYOTA_YARIS|     TOYOTA_YARIS|\n",
      "|         8|           MAZDA_MAZDA2|            HONDA_JAZZ|             VOLVO_460|       HONDA_JAZZ|       HONDA_JAZZ|\n",
      "|         9|            ZZ_????????|       TOYOTA_FORTUNER|             VOLVO_740|  TOYOTA_FORTUNER|  TOYOTA_FORTUNER|\n",
      "|        10|             MAZDA_BT50|         MAZDA_MAZDA 2|            VOLVO_740 |    MAZDA_MAZDA 2|    MAZDA_MAZDA 2|\n",
      "|        11|           TOYOTA_HIACE|          TOYOTA_CAMRY|             VOLVO_850|     TOYOTA_CAMRY|     TOYOTA_CAMRY|\n",
      "|        12|         DFSK_MINITRUCK|     MITSUBISHI_TRITON|            VOLVO_940 |MITSUBISHI_TRITON|MITSUBISHI_TRITON|\n",
      "|        13|        ISUZU_ISUZU TFR|           FORD_RANGER|            VOLVO_960 |      FORD_RANGER|      FORD_RANGER|\n",
      "|        14|             HONDA_HR-V|             HONDA_CRV|             VOLVO_C70|        HONDA_CRV|        HONDA_CRV|\n",
      "|        15|       NISSAN_SUNNY NEO|         NISSAN_ALMERA|   VOLVO_Cross Country|    NISSAN_ALMERA|    NISSAN_ALMERA|\n",
      "|        16|            NISSAN_TIDA|          HONDA_ACCORD|             VOLVO_S60|     HONDA_ACCORD|     HONDA_ACCORD|\n",
      "|        17|          MAZDA_MAZDA 3|         NISSAN_NAVARA|             VOLVO_S70|    NISSAN_NAVARA|    NISSAN_NAVARA|\n",
      "|        18|          TOYOTA_COROLA|       TOYOTA_COMMUTER|             VOLVO_S80|  TOYOTA_COMMUTER|  TOYOTA_COMMUTER|\n",
      "|        19|    MERCHEDES BENZ_230E|          SUZUKI_SWIFT|             VOLVO_S90|     SUZUKI_SWIFT|     SUZUKI_SWIFT|\n",
      "+----------+-----------------------+----------------------+----------------------+-----------------+-----------------+\n",
      "only showing top 20 rows\n",
      "\n"
     ]
    }
   ],
   "source": [
    "result_df_2.show()"
   ]
  },
  {
   "cell_type": "markdown",
   "metadata": {},
   "source": [
    "### Drop new_col and change column names"
   ]
  },
  {
   "cell_type": "code",
   "execution_count": 243,
   "metadata": {},
   "outputs": [],
   "source": [
    "result_df_2 = result_df_2.drop('new_col')"
   ]
  },
  {
   "cell_type": "code",
   "execution_count": 245,
   "metadata": {},
   "outputs": [
    {
     "data": {
      "text/plain": [
       "['Unnamed: 0',\n",
       " 'CAR_BRAND_CAR_MODEL_CAR',\n",
       " 'CAR_BRAND_CAR_MODEL_SG',\n",
       " 'CAR_BRAND_CAR_MODEL_MD',\n",
       " 'new_col2']"
      ]
     },
     "execution_count": 245,
     "metadata": {},
     "output_type": "execute_result"
    }
   ],
   "source": [
    "result_df_2.columns"
   ]
  },
  {
   "cell_type": "code",
   "execution_count": 247,
   "metadata": {},
   "outputs": [],
   "source": [
    "result_df_2 = result_df_2.toDF('index', 'model_car', 'model_sg', 'model_md', 'model_new')"
   ]
  },
  {
   "cell_type": "code",
   "execution_count": 249,
   "metadata": {},
   "outputs": [
    {
     "name": "stdout",
     "output_type": "stream",
     "text": [
      "+-----+-------------------+-----------------+-------------------+-----------------+\n",
      "|index|          model_car|         model_sg|           model_md|        model_new|\n",
      "+-----+-------------------+-----------------+-------------------+-----------------+\n",
      "|    0|            MG_MG 3|      ISUZU_D-MAX|          VOLVO_144|      ISUZU_D-MAX|\n",
      "|    1|       TOYOTA_INOVA|      TOYOTA_VIGO|          VOLVO_164|      TOYOTA_VIGO|\n",
      "|    2|            MAZDA_3|      TOYOTA_VIOS|          VOLVO_240|      TOYOTA_VIOS|\n",
      "|    3|            AUDI_TT|       HONDA_CITY|          VOLVO_244|       HONDA_CITY|\n",
      "|    4|    TOYOTA_MIGHTY-X|      HONDA_CIVIC|          VOLVO_260|      HONDA_CIVIC|\n",
      "|    5|         ISUZU_DMAX|     TOYOTA_ALTIS|          VOLVO_264|     TOYOTA_ALTIS|\n",
      "|    6|         HONDA_CR-V|      TOYOTA_REVO|          VOLVO_340|      TOYOTA_REVO|\n",
      "|    7|    NISSAN_ ELGRAND|     TOYOTA_YARIS|          VOLVO_446|     TOYOTA_YARIS|\n",
      "|    8|       MAZDA_MAZDA2|       HONDA_JAZZ|          VOLVO_460|       HONDA_JAZZ|\n",
      "|    9|        ZZ_????????|  TOYOTA_FORTUNER|          VOLVO_740|  TOYOTA_FORTUNER|\n",
      "|   10|         MAZDA_BT50|    MAZDA_MAZDA 2|         VOLVO_740 |    MAZDA_MAZDA 2|\n",
      "|   11|       TOYOTA_HIACE|     TOYOTA_CAMRY|          VOLVO_850|     TOYOTA_CAMRY|\n",
      "|   12|     DFSK_MINITRUCK|MITSUBISHI_TRITON|         VOLVO_940 |MITSUBISHI_TRITON|\n",
      "|   13|    ISUZU_ISUZU TFR|      FORD_RANGER|         VOLVO_960 |      FORD_RANGER|\n",
      "|   14|         HONDA_HR-V|        HONDA_CRV|          VOLVO_C70|        HONDA_CRV|\n",
      "|   15|   NISSAN_SUNNY NEO|    NISSAN_ALMERA|VOLVO_Cross Country|    NISSAN_ALMERA|\n",
      "|   16|        NISSAN_TIDA|     HONDA_ACCORD|          VOLVO_S60|     HONDA_ACCORD|\n",
      "|   17|      MAZDA_MAZDA 3|    NISSAN_NAVARA|          VOLVO_S70|    NISSAN_NAVARA|\n",
      "|   18|      TOYOTA_COROLA|  TOYOTA_COMMUTER|          VOLVO_S80|  TOYOTA_COMMUTER|\n",
      "|   19|MERCHEDES BENZ_230E|     SUZUKI_SWIFT|          VOLVO_S90|     SUZUKI_SWIFT|\n",
      "+-----+-------------------+-----------------+-------------------+-----------------+\n",
      "only showing top 20 rows\n",
      "\n"
     ]
    }
   ],
   "source": [
    "result_df_2.show()"
   ]
  },
  {
   "cell_type": "markdown",
   "metadata": {},
   "source": [
    "## Export"
   ]
  },
  {
   "cell_type": "code",
   "execution_count": 250,
   "metadata": {},
   "outputs": [],
   "source": [
    "result_df_2_pd = result_df_2.toPandas()"
   ]
  },
  {
   "cell_type": "code",
   "execution_count": 251,
   "metadata": {},
   "outputs": [],
   "source": [
    "result_df_2_pd.to_excel('output.xlsx')"
   ]
  },
  {
   "cell_type": "markdown",
   "metadata": {},
   "source": [
    "#### Check ratio"
   ]
  },
  {
   "cell_type": "code",
   "execution_count": 253,
   "metadata": {},
   "outputs": [
    {
     "data": {
      "text/plain": [
       "73"
      ]
     },
     "execution_count": 253,
     "metadata": {},
     "output_type": "execute_result"
    }
   ],
   "source": [
    "str1 = 'ISUZU_D-MAX ALL NEW'\n",
    "str2 = 'ISUZU_D-MAX'\n",
    "fuzz.ratio(str1, str2)"
   ]
  },
  {
   "cell_type": "code",
   "execution_count": null,
   "metadata": {},
   "outputs": [],
   "source": []
  }
 ],
 "metadata": {
  "kernelspec": {
   "display_name": "Python 3",
   "language": "python",
   "name": "python3"
  },
  "language_info": {
   "codemirror_mode": {
    "name": "ipython",
    "version": 3
   },
   "file_extension": ".py",
   "mimetype": "text/x-python",
   "name": "python",
   "nbconvert_exporter": "python",
   "pygments_lexer": "ipython3",
   "version": "3.11.9"
  }
 },
 "nbformat": 4,
 "nbformat_minor": 2
}
